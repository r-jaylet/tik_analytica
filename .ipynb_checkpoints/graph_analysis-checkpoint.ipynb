{
 "cells": [
  {
   "cell_type": "code",
   "execution_count": 3,
   "id": "ranking-south",
   "metadata": {},
   "outputs": [],
   "source": [
    "import pandas as pd\n",
    "from datetime import datetime, timedelta\n",
    "import numpy as np\n",
    "import json\n",
    "import pandas as pd\n",
    "import requests\n",
    "import ast\n",
    "import re\n",
    "from bs4 import BeautifulSoup\n",
    "import matplotlib.pyplot as plt\n",
    "import networkx as nx"
   ]
  },
  {
   "cell_type": "code",
   "execution_count": 2,
   "id": "norman-gambling",
   "metadata": {},
   "outputs": [],
   "source": [
    "from fetch_data import user, user_videos, hashtag, music"
   ]
  },
  {
   "cell_type": "code",
   "execution_count": 3,
   "id": "forced-favor",
   "metadata": {},
   "outputs": [],
   "source": [
    "username_ = 'taylorswift'"
   ]
  },
  {
   "cell_type": "code",
   "execution_count": null,
   "id": "interior-plain",
   "metadata": {},
   "outputs": [
    {
     "name": "stdout",
     "output_type": "stream",
     "text": [
      "{'taylorswift': {'haimtheband', 'selenagomez', 'target', 'emilytsavidge', 'spotify', 'shaniatwain', 'lizzo', 'phoebe'}}\n",
      "iteration # 2 : haimtheband\n",
      "check videos of haimtheband\n",
      "{'taylorswift': {'haimtheband', 'selenagomez', 'target', 'emilytsavidge', 'spotify', 'shaniatwain', 'lizzo', 'phoebe'}, 'haimtheband': {'Christopher', 'brits', 'kenzinabenz_', 'dojacat', 'More', 'ouijewboards', 'thesifactor', 'iamfrankiejonas', 'madonna', 'yeehawcaro', 'Fender', 'fender', 'Taylor', 'taylorswift'}}\n",
      "iteration # 3 : selenagomez\n"
     ]
    }
   ],
   "source": [
    "res = {}\n",
    "\n",
    "user_profile = user(username_)\n",
    "tiktoks = user_videos(username_)\n",
    "if  user_profile['privateAccount'] or user_profile['followers'] < 1000 and user_profile['videos'] < 3:\n",
    "    print('not taken into account')\n",
    "collabs = []\n",
    "for tiktok in tiktoks:\n",
    "    collab_tiktok = [t[1:] for t in tiktok['description'].split() if t.startswith('@')]\n",
    "    collabs += collab_tiktok\n",
    "    user_collabs = list(set(collabs))\n",
    "    res[username_] = user_collabs\n",
    "\n",
    "print(res)\n",
    "\n",
    "i = 1\n",
    "for u in user_collabs:\n",
    "    i+=1\n",
    "    print('iteration #', i, ':', u)\n",
    "    user_profile = user(u)\n",
    "    tiktoks = user_videos(u)\n",
    "    if  user_profile['privateAccount'] or user_profile['followers'] < 1000 and user_profile['videos'] < 3:\n",
    "        print('not taken into account')\n",
    "        continue\n",
    "    else:\n",
    "        if tiktoks:\n",
    "            print('check videos of', u)\n",
    "            collabs = []\n",
    "            for tiktok in tiktoks:\n",
    "                collab_tiktok = [t[1:] for t in tiktok['description'].split() if t.startswith('@')]\n",
    "                collabs += collab_tiktok\n",
    "            user_collabs = list(set(collabs))\n",
    "            res[u] = user_collabs\n",
    "            print(res)"
   ]
  },
  {
   "cell_type": "code",
   "execution_count": 5,
   "id": "upper-george",
   "metadata": {},
   "outputs": [],
   "source": [
    "adjacency_dict = {'aa': ['to', 'zz'], 'to': ['aa', 'zz'], 'zz': ['aa', 'to']}\n",
    "H = nx.Graph(adjacency_dict)"
   ]
  },
  {
   "cell_type": "code",
   "execution_count": 7,
   "id": "cooked-visiting",
   "metadata": {},
   "outputs": [
    {
     "data": {
      "text/plain": [
       "[('aa', 'to'), ('aa', 'zz'), ('to', 'zz')]"
      ]
     },
     "execution_count": 7,
     "metadata": {},
     "output_type": "execute_result"
    }
   ],
   "source": [
    "H.edges()"
   ]
  },
  {
   "cell_type": "code",
   "execution_count": 5,
   "id": "chemical-brick",
   "metadata": {},
   "outputs": [
    {
     "name": "stdout",
     "output_type": "stream",
     "text": [
      "Collecting pygraphviz\n",
      "  Using cached pygraphviz-1.7.zip (118 kB)\n",
      "  Preparing metadata (setup.py): started\n",
      "  Preparing metadata (setup.py): finished with status 'done'\n",
      "Building wheels for collected packages: pygraphviz\n",
      "  Building wheel for pygraphviz (setup.py): started\n",
      "  Building wheel for pygraphviz (setup.py): finished with status 'error'\n",
      "  Running setup.py clean for pygraphviz\n",
      "Failed to build pygraphviz\n",
      "Installing collected packages: pygraphviz\n",
      "  Running setup.py install for pygraphviz: started\n",
      "  Running setup.py install for pygraphviz: finished with status 'error'\n"
     ]
    },
    {
     "name": "stderr",
     "output_type": "stream",
     "text": [
      "WARNING: Ignoring invalid distribution -cipy (c:\\users\\remij\\miniconda3\\lib\\site-packages)\n",
      "WARNING: Ignoring invalid distribution -cipy (c:\\users\\remij\\miniconda3\\lib\\site-packages)\n",
      "  error: subprocess-exited-with-error\n",
      "  \n",
      "  python setup.py bdist_wheel did not run successfully.\n",
      "  exit code: 1\n",
      "  \n",
      "  [53 lines of output]\n",
      "  running bdist_wheel\n",
      "  running build\n",
      "  running build_py\n",
      "  creating build\n",
      "  creating build\\lib.win-amd64-cpython-37\n",
      "  creating build\\lib.win-amd64-cpython-37\\pygraphviz\n",
      "  copying pygraphviz\\agraph.py -> build\\lib.win-amd64-cpython-37\\pygraphviz\n",
      "  copying pygraphviz\\graphviz.py -> build\\lib.win-amd64-cpython-37\\pygraphviz\n",
      "  copying pygraphviz\\scraper.py -> build\\lib.win-amd64-cpython-37\\pygraphviz\n",
      "  copying pygraphviz\\testing.py -> build\\lib.win-amd64-cpython-37\\pygraphviz\n",
      "  copying pygraphviz\\__init__.py -> build\\lib.win-amd64-cpython-37\\pygraphviz\n",
      "  creating build\\lib.win-amd64-cpython-37\\pygraphviz\\tests\n",
      "  copying pygraphviz\\tests\\test_attribute_defaults.py -> build\\lib.win-amd64-cpython-37\\pygraphviz\\tests\n",
      "  copying pygraphviz\\tests\\test_clear.py -> build\\lib.win-amd64-cpython-37\\pygraphviz\\tests\n",
      "  copying pygraphviz\\tests\\test_close.py -> build\\lib.win-amd64-cpython-37\\pygraphviz\\tests\n",
      "  copying pygraphviz\\tests\\test_drawing.py -> build\\lib.win-amd64-cpython-37\\pygraphviz\\tests\n",
      "  copying pygraphviz\\tests\\test_edge_attributes.py -> build\\lib.win-amd64-cpython-37\\pygraphviz\\tests\n",
      "  copying pygraphviz\\tests\\test_graph.py -> build\\lib.win-amd64-cpython-37\\pygraphviz\\tests\n",
      "  copying pygraphviz\\tests\\test_html.py -> build\\lib.win-amd64-cpython-37\\pygraphviz\\tests\n",
      "  copying pygraphviz\\tests\\test_layout.py -> build\\lib.win-amd64-cpython-37\\pygraphviz\\tests\n",
      "  copying pygraphviz\\tests\\test_node_attributes.py -> build\\lib.win-amd64-cpython-37\\pygraphviz\\tests\n",
      "  copying pygraphviz\\tests\\test_readwrite.py -> build\\lib.win-amd64-cpython-37\\pygraphviz\\tests\n",
      "  copying pygraphviz\\tests\\test_scraper.py -> build\\lib.win-amd64-cpython-37\\pygraphviz\\tests\n",
      "  copying pygraphviz\\tests\\test_string.py -> build\\lib.win-amd64-cpython-37\\pygraphviz\\tests\n",
      "  copying pygraphviz\\tests\\test_subgraph.py -> build\\lib.win-amd64-cpython-37\\pygraphviz\\tests\n",
      "  copying pygraphviz\\tests\\test_unicode.py -> build\\lib.win-amd64-cpython-37\\pygraphviz\\tests\n",
      "  copying pygraphviz\\tests\\__init__.py -> build\\lib.win-amd64-cpython-37\\pygraphviz\\tests\n",
      "  running egg_info\n",
      "  writing pygraphviz.egg-info\\PKG-INFO\n",
      "  writing dependency_links to pygraphviz.egg-info\\dependency_links.txt\n",
      "  writing top-level names to pygraphviz.egg-info\\top_level.txt\n",
      "  reading manifest file 'pygraphviz.egg-info\\SOURCES.txt'\n",
      "  reading manifest template 'MANIFEST.in'\n",
      "  warning: no files found matching '*.png' under directory 'doc'\n",
      "  warning: no files found matching '*.txt' under directory 'doc'\n",
      "  warning: no files found matching '*.css' under directory 'doc'\n",
      "  warning: no previously-included files matching '*~' found anywhere in distribution\n",
      "  warning: no previously-included files matching '*.pyc' found anywhere in distribution\n",
      "  warning: no previously-included files matching '.svn' found anywhere in distribution\n",
      "  no previously-included directories found matching 'doc\\build'\n",
      "  adding license file 'LICENSE'\n",
      "  writing manifest file 'pygraphviz.egg-info\\SOURCES.txt'\n",
      "  copying pygraphviz\\graphviz.i -> build\\lib.win-amd64-cpython-37\\pygraphviz\n",
      "  copying pygraphviz\\graphviz_wrap.c -> build\\lib.win-amd64-cpython-37\\pygraphviz\n",
      "  running build_ext\n",
      "  building 'pygraphviz._graphviz' extension\n",
      "  creating build\\temp.win-amd64-cpython-37\n",
      "  creating build\\temp.win-amd64-cpython-37\\Release\n",
      "  creating build\\temp.win-amd64-cpython-37\\Release\\pygraphviz\n",
      "  \"C:\\Program Files (x86)\\Microsoft Visual Studio\\2019\\Community\\VC\\Tools\\MSVC\\14.28.29333\\bin\\HostX86\\x64\\cl.exe\" /c /nologo /O2 /W3 /GL /DNDEBUG /MD -Ic:\\users\\remij\\miniconda3\\include -Ic:\\users\\remij\\miniconda3\\Include \"-IC:\\Program Files (x86)\\Microsoft Visual Studio\\2019\\Community\\VC\\Tools\\MSVC\\14.28.29333\\ATLMFC\\include\" \"-IC:\\Program Files (x86)\\Microsoft Visual Studio\\2019\\Community\\VC\\Tools\\MSVC\\14.28.29333\\include\" \"-IC:\\Program Files (x86)\\Windows Kits\\10\\include\\10.0.19041.0\\ucrt\" \"-IC:\\Program Files (x86)\\Windows Kits\\10\\include\\10.0.19041.0\\shared\" \"-IC:\\Program Files (x86)\\Windows Kits\\10\\include\\10.0.19041.0\\um\" \"-IC:\\Program Files (x86)\\Windows Kits\\10\\include\\10.0.19041.0\\winrt\" \"-IC:\\Program Files (x86)\\Windows Kits\\10\\include\\10.0.19041.0\\cppwinrt\" -IC:\\Users\\remij\\Miniconda3\\Library\\include /Tcpygraphviz/graphviz_wrap.c /Fobuild\\temp.win-amd64-cpython-37\\Release\\pygraphviz/graphviz_wrap.obj\n",
      "  graphviz_wrap.c\n",
      "  pygraphviz/graphviz_wrap.c(2711): fatal error C1083: Impossible d'ouvrir le fichier includeÿ: 'graphviz/cgraph.h'ÿ: No such file or directory\n",
      "  error: command 'C:\\\\Program Files (x86)\\\\Microsoft Visual Studio\\\\2019\\\\Community\\\\VC\\\\Tools\\\\MSVC\\\\14.28.29333\\\\bin\\\\HostX86\\\\x64\\\\cl.exe' failed with exit code 2\n",
      "  [end of output]\n",
      "  \n",
      "  note: This error originates from a subprocess, and is likely not a problem with pip.\n",
      "  ERROR: Failed building wheel for pygraphviz\n",
      "WARNING: Ignoring invalid distribution -cipy (c:\\users\\remij\\miniconda3\\lib\\site-packages)\n",
      "  error: subprocess-exited-with-error\n",
      "  \n",
      "  Running setup.py install for pygraphviz did not run successfully.\n",
      "  exit code: 1\n",
      "  \n",
      "  [55 lines of output]\n",
      "  running install\n",
      "  c:\\users\\remij\\miniconda3\\lib\\site-packages\\setuptools\\command\\install.py:37: SetuptoolsDeprecationWarning: setup.py install is deprecated. Use build and pip and other standards-based tools.\n",
      "    setuptools.SetuptoolsDeprecationWarning,\n",
      "  running build\n",
      "  running build_py\n",
      "  creating build\n",
      "  creating build\\lib.win-amd64-cpython-37\n",
      "  creating build\\lib.win-amd64-cpython-37\\pygraphviz\n",
      "  copying pygraphviz\\agraph.py -> build\\lib.win-amd64-cpython-37\\pygraphviz\n",
      "  copying pygraphviz\\graphviz.py -> build\\lib.win-amd64-cpython-37\\pygraphviz\n",
      "  copying pygraphviz\\scraper.py -> build\\lib.win-amd64-cpython-37\\pygraphviz\n",
      "  copying pygraphviz\\testing.py -> build\\lib.win-amd64-cpython-37\\pygraphviz\n",
      "  copying pygraphviz\\__init__.py -> build\\lib.win-amd64-cpython-37\\pygraphviz\n",
      "  creating build\\lib.win-amd64-cpython-37\\pygraphviz\\tests\n",
      "  copying pygraphviz\\tests\\test_attribute_defaults.py -> build\\lib.win-amd64-cpython-37\\pygraphviz\\tests\n",
      "  copying pygraphviz\\tests\\test_clear.py -> build\\lib.win-amd64-cpython-37\\pygraphviz\\tests\n",
      "  copying pygraphviz\\tests\\test_close.py -> build\\lib.win-amd64-cpython-37\\pygraphviz\\tests\n",
      "  copying pygraphviz\\tests\\test_drawing.py -> build\\lib.win-amd64-cpython-37\\pygraphviz\\tests\n",
      "  copying pygraphviz\\tests\\test_edge_attributes.py -> build\\lib.win-amd64-cpython-37\\pygraphviz\\tests\n",
      "  copying pygraphviz\\tests\\test_graph.py -> build\\lib.win-amd64-cpython-37\\pygraphviz\\tests\n",
      "  copying pygraphviz\\tests\\test_html.py -> build\\lib.win-amd64-cpython-37\\pygraphviz\\tests\n",
      "  copying pygraphviz\\tests\\test_layout.py -> build\\lib.win-amd64-cpython-37\\pygraphviz\\tests\n",
      "  copying pygraphviz\\tests\\test_node_attributes.py -> build\\lib.win-amd64-cpython-37\\pygraphviz\\tests\n",
      "  copying pygraphviz\\tests\\test_readwrite.py -> build\\lib.win-amd64-cpython-37\\pygraphviz\\tests\n",
      "  copying pygraphviz\\tests\\test_scraper.py -> build\\lib.win-amd64-cpython-37\\pygraphviz\\tests\n",
      "  copying pygraphviz\\tests\\test_string.py -> build\\lib.win-amd64-cpython-37\\pygraphviz\\tests\n",
      "  copying pygraphviz\\tests\\test_subgraph.py -> build\\lib.win-amd64-cpython-37\\pygraphviz\\tests\n",
      "  copying pygraphviz\\tests\\test_unicode.py -> build\\lib.win-amd64-cpython-37\\pygraphviz\\tests\n",
      "  copying pygraphviz\\tests\\__init__.py -> build\\lib.win-amd64-cpython-37\\pygraphviz\\tests\n",
      "  running egg_info\n",
      "  writing pygraphviz.egg-info\\PKG-INFO\n",
      "  writing dependency_links to pygraphviz.egg-info\\dependency_links.txt\n",
      "  writing top-level names to pygraphviz.egg-info\\top_level.txt\n",
      "  reading manifest file 'pygraphviz.egg-info\\SOURCES.txt'\n",
      "  reading manifest template 'MANIFEST.in'\n",
      "  warning: no files found matching '*.png' under directory 'doc'\n",
      "  warning: no files found matching '*.txt' under directory 'doc'\n",
      "  warning: no files found matching '*.css' under directory 'doc'\n",
      "  warning: no previously-included files matching '*~' found anywhere in distribution\n",
      "  warning: no previously-included files matching '*.pyc' found anywhere in distribution\n",
      "  warning: no previously-included files matching '.svn' found anywhere in distribution\n",
      "  no previously-included directories found matching 'doc\\build'\n",
      "  adding license file 'LICENSE'\n",
      "  writing manifest file 'pygraphviz.egg-info\\SOURCES.txt'\n",
      "  copying pygraphviz\\graphviz.i -> build\\lib.win-amd64-cpython-37\\pygraphviz\n",
      "  copying pygraphviz\\graphviz_wrap.c -> build\\lib.win-amd64-cpython-37\\pygraphviz\n",
      "  running build_ext\n",
      "  building 'pygraphviz._graphviz' extension\n",
      "  creating build\\temp.win-amd64-cpython-37\n",
      "  creating build\\temp.win-amd64-cpython-37\\Release\n",
      "  creating build\\temp.win-amd64-cpython-37\\Release\\pygraphviz\n",
      "  \"C:\\Program Files (x86)\\Microsoft Visual Studio\\2019\\Community\\VC\\Tools\\MSVC\\14.28.29333\\bin\\HostX86\\x64\\cl.exe\" /c /nologo /O2 /W3 /GL /DNDEBUG /MD -Ic:\\users\\remij\\miniconda3\\include -Ic:\\users\\remij\\miniconda3\\Include \"-IC:\\Program Files (x86)\\Microsoft Visual Studio\\2019\\Community\\VC\\Tools\\MSVC\\14.28.29333\\ATLMFC\\include\" \"-IC:\\Program Files (x86)\\Microsoft Visual Studio\\2019\\Community\\VC\\Tools\\MSVC\\14.28.29333\\include\" \"-IC:\\Program Files (x86)\\Windows Kits\\10\\include\\10.0.19041.0\\ucrt\" \"-IC:\\Program Files (x86)\\Windows Kits\\10\\include\\10.0.19041.0\\shared\" \"-IC:\\Program Files (x86)\\Windows Kits\\10\\include\\10.0.19041.0\\um\" \"-IC:\\Program Files (x86)\\Windows Kits\\10\\include\\10.0.19041.0\\winrt\" \"-IC:\\Program Files (x86)\\Windows Kits\\10\\include\\10.0.19041.0\\cppwinrt\" -IC:\\Users\\remij\\Miniconda3\\Library\\include /Tcpygraphviz/graphviz_wrap.c /Fobuild\\temp.win-amd64-cpython-37\\Release\\pygraphviz/graphviz_wrap.obj\n",
      "  graphviz_wrap.c\n",
      "  pygraphviz/graphviz_wrap.c(2711): fatal error C1083: Impossible d'ouvrir le fichier includeÿ: 'graphviz/cgraph.h'ÿ: No such file or directory\n",
      "  error: command 'C:\\\\Program Files (x86)\\\\Microsoft Visual Studio\\\\2019\\\\Community\\\\VC\\\\Tools\\\\MSVC\\\\14.28.29333\\\\bin\\\\HostX86\\\\x64\\\\cl.exe' failed with exit code 2\n",
      "  [end of output]\n",
      "  \n",
      "  note: This error originates from a subprocess, and is likely not a problem with pip.\n",
      "error: legacy-install-failure\n",
      "\n",
      "Encountered error while trying to install package.\n",
      "\n",
      "pygraphviz\n",
      "\n",
      "note: This is an issue with the package mentioned above, not pip.\n",
      "hint: See above for output from the failure.\n",
      "WARNING: Ignoring invalid distribution -cipy (c:\\users\\remij\\miniconda3\\lib\\site-packages)\n",
      "WARNING: Ignoring invalid distribution -cipy (c:\\users\\remij\\miniconda3\\lib\\site-packages)\n",
      "WARNING: Ignoring invalid distribution -cipy (c:\\users\\remij\\miniconda3\\lib\\site-packages)\n",
      "WARNING: You are using pip version 22.0.3; however, version 23.0.1 is available.\n",
      "You should consider upgrading via the 'c:\\users\\remij\\miniconda3\\python.exe -m pip install --upgrade pip' command.\n"
     ]
    }
   ],
   "source": [
    "!pip install pygraphviz"
   ]
  },
  {
   "cell_type": "code",
   "execution_count": 6,
   "id": "independent-input",
   "metadata": {},
   "outputs": [
    {
     "ename": "ImportError",
     "evalue": "('requires pygraphviz ', 'http://pygraphviz.github.io/')",
     "output_type": "error",
     "traceback": [
      "\u001b[1;31m---------------------------------------------------------------------------\u001b[0m",
      "\u001b[1;31mModuleNotFoundError\u001b[0m                       Traceback (most recent call last)",
      "\u001b[1;32m~\\Miniconda3\\lib\\site-packages\\networkx\\drawing\\nx_agraph.py\u001b[0m in \u001b[0;36mpygraphviz_layout\u001b[1;34m(G, prog, root, args)\u001b[0m\n\u001b[0;32m    254\u001b[0m     \u001b[1;32mtry\u001b[0m\u001b[1;33m:\u001b[0m\u001b[1;33m\u001b[0m\u001b[1;33m\u001b[0m\u001b[0m\n\u001b[1;32m--> 255\u001b[1;33m         \u001b[1;32mimport\u001b[0m \u001b[0mpygraphviz\u001b[0m\u001b[1;33m\u001b[0m\u001b[1;33m\u001b[0m\u001b[0m\n\u001b[0m\u001b[0;32m    256\u001b[0m     \u001b[1;32mexcept\u001b[0m \u001b[0mImportError\u001b[0m\u001b[1;33m:\u001b[0m\u001b[1;33m\u001b[0m\u001b[1;33m\u001b[0m\u001b[0m\n",
      "\u001b[1;31mModuleNotFoundError\u001b[0m: No module named 'pygraphviz'",
      "\nDuring handling of the above exception, another exception occurred:\n",
      "\u001b[1;31mImportError\u001b[0m                               Traceback (most recent call last)",
      "\u001b[1;32m<ipython-input-6-eefadfedaeb6>\u001b[0m in \u001b[0;36m<module>\u001b[1;34m\u001b[0m\n\u001b[0;32m     14\u001b[0m \u001b[0mG\u001b[0m\u001b[1;33m.\u001b[0m\u001b[0madd_edge\u001b[0m\u001b[1;33m(\u001b[0m\u001b[1;36m2\u001b[0m\u001b[1;33m,\u001b[0m\u001b[1;36m4\u001b[0m\u001b[1;33m)\u001b[0m\u001b[1;33m\u001b[0m\u001b[1;33m\u001b[0m\u001b[0m\n\u001b[0;32m     15\u001b[0m \u001b[1;33m\u001b[0m\u001b[0m\n\u001b[1;32m---> 16\u001b[1;33m nx.draw(G, pos=graphviz_layout(G), node_size=1600, cmap=plt.cm.Blues,\n\u001b[0m\u001b[0;32m     17\u001b[0m         \u001b[0mnode_color\u001b[0m\u001b[1;33m=\u001b[0m\u001b[0mrange\u001b[0m\u001b[1;33m(\u001b[0m\u001b[0mlen\u001b[0m\u001b[1;33m(\u001b[0m\u001b[0mG\u001b[0m\u001b[1;33m)\u001b[0m\u001b[1;33m)\u001b[0m\u001b[1;33m,\u001b[0m\u001b[1;33m\u001b[0m\u001b[1;33m\u001b[0m\u001b[0m\n\u001b[0;32m     18\u001b[0m         prog='dot')\n",
      "\u001b[1;32m~\\Miniconda3\\lib\\site-packages\\networkx\\drawing\\nx_agraph.py\u001b[0m in \u001b[0;36mgraphviz_layout\u001b[1;34m(G, prog, root, args)\u001b[0m\n\u001b[0;32m    226\u001b[0m \u001b[1;33m\u001b[0m\u001b[0m\n\u001b[0;32m    227\u001b[0m     \"\"\"\n\u001b[1;32m--> 228\u001b[1;33m     \u001b[1;32mreturn\u001b[0m \u001b[0mpygraphviz_layout\u001b[0m\u001b[1;33m(\u001b[0m\u001b[0mG\u001b[0m\u001b[1;33m,\u001b[0m\u001b[0mprog\u001b[0m\u001b[1;33m=\u001b[0m\u001b[0mprog\u001b[0m\u001b[1;33m,\u001b[0m\u001b[0mroot\u001b[0m\u001b[1;33m=\u001b[0m\u001b[0mroot\u001b[0m\u001b[1;33m,\u001b[0m\u001b[0margs\u001b[0m\u001b[1;33m=\u001b[0m\u001b[0margs\u001b[0m\u001b[1;33m)\u001b[0m\u001b[1;33m\u001b[0m\u001b[1;33m\u001b[0m\u001b[0m\n\u001b[0m\u001b[0;32m    229\u001b[0m \u001b[1;33m\u001b[0m\u001b[0m\n\u001b[0;32m    230\u001b[0m \u001b[1;32mdef\u001b[0m \u001b[0mpygraphviz_layout\u001b[0m\u001b[1;33m(\u001b[0m\u001b[0mG\u001b[0m\u001b[1;33m,\u001b[0m\u001b[0mprog\u001b[0m\u001b[1;33m=\u001b[0m\u001b[1;34m'neato'\u001b[0m\u001b[1;33m,\u001b[0m\u001b[0mroot\u001b[0m\u001b[1;33m=\u001b[0m\u001b[1;32mNone\u001b[0m\u001b[1;33m,\u001b[0m \u001b[0margs\u001b[0m\u001b[1;33m=\u001b[0m\u001b[1;34m''\u001b[0m\u001b[1;33m)\u001b[0m\u001b[1;33m:\u001b[0m\u001b[1;33m\u001b[0m\u001b[1;33m\u001b[0m\u001b[0m\n",
      "\u001b[1;32m~\\Miniconda3\\lib\\site-packages\\networkx\\drawing\\nx_agraph.py\u001b[0m in \u001b[0;36mpygraphviz_layout\u001b[1;34m(G, prog, root, args)\u001b[0m\n\u001b[0;32m    256\u001b[0m     \u001b[1;32mexcept\u001b[0m \u001b[0mImportError\u001b[0m\u001b[1;33m:\u001b[0m\u001b[1;33m\u001b[0m\u001b[1;33m\u001b[0m\u001b[0m\n\u001b[0;32m    257\u001b[0m         raise ImportError('requires pygraphviz ',\n\u001b[1;32m--> 258\u001b[1;33m                           'http://pygraphviz.github.io/')\n\u001b[0m\u001b[0;32m    259\u001b[0m     \u001b[1;32mif\u001b[0m \u001b[0mroot\u001b[0m \u001b[1;32mis\u001b[0m \u001b[1;32mnot\u001b[0m \u001b[1;32mNone\u001b[0m\u001b[1;33m:\u001b[0m\u001b[1;33m\u001b[0m\u001b[1;33m\u001b[0m\u001b[0m\n\u001b[0;32m    260\u001b[0m         \u001b[0margs\u001b[0m\u001b[1;33m+=\u001b[0m\u001b[1;34m\"-Groot=%s\"\u001b[0m\u001b[1;33m%\u001b[0m\u001b[0mroot\u001b[0m\u001b[1;33m\u001b[0m\u001b[1;33m\u001b[0m\u001b[0m\n",
      "\u001b[1;31mImportError\u001b[0m: ('requires pygraphviz ', 'http://pygraphviz.github.io/')"
     ]
    }
   ],
   "source": [
    "import networkx as nx\n",
    "import pylab as plt\n",
    "from networkx.drawing.nx_agraph import graphviz_layout\n",
    "\n",
    "\n",
    "G = nx.DiGraph()\n",
    "G.add_node(1,level=1)\n",
    "G.add_node(2,level=2)\n",
    "G.add_node(3,level=2)\n",
    "G.add_node(4,level=3)\n",
    "\n",
    "G.add_edge(1,2)\n",
    "G.add_edge(1,3)\n",
    "G.add_edge(2,4)\n",
    "\n",
    "nx.draw(G, pos=graphviz_layout(G), node_size=1600, cmap=plt.cm.Blues,\n",
    "        node_color=range(len(G)),\n",
    "        prog='dot')\n",
    "plt.show()"
   ]
  },
  {
   "cell_type": "code",
   "execution_count": null,
   "id": "phantom-mexico",
   "metadata": {},
   "outputs": [],
   "source": [
    "# generate the graph\n",
    "nt = net.Network('750px', '100%', bgcolor='#31333f', font_color='white')\n",
    "nt.from_nx(G)\n",
    "nt.save_graph(f'graph.html')\n",
    "st.header('Connections by Company Graph')\n",
    "HtmlFile = open(f'company_graph.html','r',encoding='utf-8')\n",
    "\n",
    "# Load HTML into HTML component for display on Streamlit\n",
    "components.html(HtmlFile.read(), height=800, width=800)"
   ]
  }
 ],
 "metadata": {
  "kernelspec": {
   "display_name": "Python 3",
   "language": "python",
   "name": "python3"
  },
  "language_info": {
   "codemirror_mode": {
    "name": "ipython",
    "version": 3
   },
   "file_extension": ".py",
   "mimetype": "text/x-python",
   "name": "python",
   "nbconvert_exporter": "python",
   "pygments_lexer": "ipython3",
   "version": "3.7.3"
  }
 },
 "nbformat": 4,
 "nbformat_minor": 5
}
