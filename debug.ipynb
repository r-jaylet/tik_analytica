{
 "cells": [
  {
   "cell_type": "code",
   "execution_count": 2,
   "id": "sound-composite",
   "metadata": {},
   "outputs": [],
   "source": [
    "import pandas as pd\n",
    "from datetime import datetime, timedelta\n",
    "import numpy as np\n",
    "import json\n",
    "import pandas as pd\n",
    "import requests\n",
    "import ast\n",
    "import re\n",
    "from bs4 import BeautifulSoup\n",
    "import matplotlib.pyplot as plt"
   ]
  },
  {
   "cell_type": "code",
   "execution_count": 5,
   "id": "flexible-faculty",
   "metadata": {},
   "outputs": [],
   "source": [
    "from fetch_trends import hashtag_trend_info"
   ]
  },
  {
   "cell_type": "code",
   "execution_count": 13,
   "id": "horizontal-martial",
   "metadata": {},
   "outputs": [],
   "source": [
    "url = f'https://ads.tiktok.com/business/creativecenter/trends/home/pc/en'\n",
    "page = requests.get(url)\n",
    "soup = BeautifulSoup(page.text, features='lxml')\n",
    "\n",
    "trending_hashtag = []\n",
    "trending_music = []\n",
    "trending_creator = []\n",
    "\n",
    "# get hashtag info\n",
    "for s in soup.find_all('div', id='hashtagItemContainer'):\n",
    "    tag = s.find('span', {\"class\": \"titleText--qKHbP\"}).text\n",
    "    stats = s.find_all('span', {\"class\": \"item-value--VAdnq\"})\n",
    "    posts = stats[0].text\n",
    "    views = stats[1].text\n",
    "    trending_hashtag.append([tag, posts, views])\n",
    "\n",
    "# get music info\n",
    "for s in soup.find_all('div', {\"class\": \"music-name-wrap--FPaLL music-name-wrap--X6m9u\"}):\n",
    "    trending_music.append(s.text)\n",
    "\n",
    "# get creator info\n",
    "for s in soup.find_all('div', id='creatorItemContainer'):\n",
    "    tag = s.find('span', {\"class\": \"music-name--LR+1s music-name--bEzZ1\"}).text\n",
    "    stats = s.find_all('span', {\"class\": \"creator-data-value--CwFQt creator-data-value--S-K2V\"})\n",
    "    posts = stats[0].text\n",
    "    views = stats[1].text\n",
    "    trending_creator.append([tag, posts, views])\n",
    "\n",
    "hashtag = pd.DataFrame(trending_hashtag, columns=['tag', 'posts_count', 'views_count'])\n",
    "music = pd.DataFrame(trending_music, columns=['music'])\n",
    "creator = pd.DataFrame(trending_creator, columns=['creator', 'followers_count', 'likes_count'])\n",
    "\n",
    "find_content = soup.find('script', id=\"__NEXT_DATA__\")\n",
    "str_content = str(find_content).split('<')[1].split('>')[1]\n",
    "\n",
    "json_content = json.loads(str_content)['props']['pageProps']\n",
    "\n",
    "if 'data' in json_content.keys():\n",
    "    json_content = json_content['data']\n",
    "\n",
    "hashtag_content = json_content['hashtags']\n",
    "music_content = json_content['trendMusic']\n",
    "creator_content = json_content['creatorList']\n",
    "tiktok_content = json_content['tiktoks']\n",
    "\n",
    "# gather all data\n",
    "hashtag = hashtag.merge(pd.DataFrame.from_records(hashtag_content), left_index=True, right_index=True)\n",
    "music = music.merge(pd.DataFrame.from_records(music_content), left_index=True, right_index=True)\n",
    "creator = creator.merge(pd.DataFrame.from_records(creator_content), left_index=True, right_index=True)\n",
    "tiktok = pd.DataFrame.from_records(tiktok_content)"
   ]
  }
 ],
 "metadata": {
  "kernelspec": {
   "display_name": "Python 3",
   "language": "python",
   "name": "python3"
  },
  "language_info": {
   "codemirror_mode": {
    "name": "ipython",
    "version": 3
   },
   "file_extension": ".py",
   "mimetype": "text/x-python",
   "name": "python",
   "nbconvert_exporter": "python",
   "pygments_lexer": "ipython3",
   "version": "3.7.3"
  }
 },
 "nbformat": 4,
 "nbformat_minor": 5
}
