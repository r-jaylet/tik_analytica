{
 "cells": [
  {
   "cell_type": "code",
   "execution_count": 1,
   "id": "ranking-south",
   "metadata": {},
   "outputs": [],
   "source": [
    "import requests\n",
    "import json\n",
    "from bs4 import BeautifulSoup\n",
    "import pandas as pd"
   ]
  },
  {
   "cell_type": "code",
   "execution_count": 2,
   "id": "phantom-picking",
   "metadata": {},
   "outputs": [],
   "source": [
    "search = \"music\" #hashtag\n",
    "\n",
    "URL = f\"https://ads.tiktok.com/business/creativecenter/inspiration/popular/{search}/pc/en\"\n",
    "page = requests.get(URL)\n",
    "\n",
    "soup = BeautifulSoup(page.text)\n",
    "scripts = soup.find(\"script\", id='__NEXT_DATA__')"
   ]
  },
  {
   "cell_type": "code",
   "execution_count": 3,
   "id": "powered-aspect",
   "metadata": {},
   "outputs": [],
   "source": [
    "find_content = soup.find('script', id=\"__NEXT_DATA__\")\n",
    "str_content = str(find_content).split('<')[1].split('>')[1]"
   ]
  },
  {
   "cell_type": "code",
   "execution_count": 4,
   "id": "convertible-bulgarian",
   "metadata": {},
   "outputs": [],
   "source": [
    "json_content = json.loads(str_content)['props']['pageProps']"
   ]
  },
  {
   "cell_type": "code",
   "execution_count": 93,
   "id": "czech-recipient",
   "metadata": {},
   "outputs": [],
   "source": [
    "hashtag = \"jhope\"\n",
    "period = \"120\"\n",
    "country = \"FR\"\n",
    "\n",
    "def hashtag_trend_info(hashtag, country, period):\n",
    "\n",
    "    URL = f\"https://ads.tiktok.com/business/creativecenter/hashtag/{hashtag}/pc/en?countryCode={country}&period={period}\"\n",
    "    page = requests.get(URL)\n",
    "\n",
    "    soup = BeautifulSoup(page.text)\n",
    "    \n",
    "    stats = [e.text for e in soup.find_all('span', {'class': 'title--gvWft title--eM6Wz'})]\n",
    "    trend = soup.find('span', {'class': 'bannerDesc--CORuD bannerDesc--McarQ'}).text\n",
    "    region_info = []\n",
    "    region = soup.find_all('div', {'class': 'content-wrap-item--P88lK content-wrap-item--zMoGF'})\n",
    "    for r in region:\n",
    "        reg = {}\n",
    "        reg['country'] = r.find('span', {'class': 'content-wrap-item-label-wrap-label--33mdU content-wrap-item-label-wrap-label--uojf9'}).text\n",
    "        reg['count'] = r.find('span', {'class': 'content-wrap-item-value-wrap-value--wtBCS content-wrap-item-value-wrap-value--q-PNh'}).text\n",
    "        region_info.append(reg)\n",
    "    related_hashtags = [h.find('span').text for h in soup.find_all('div', {'class': 'mtitle--EtrCY mtitle--mJqfP'})]\n",
    "\n",
    "    region_info = pd.DataFrame(region_info)\n",
    "    related_hashtags = pd.DataFrame(related_hashtags)\n",
    "    \n",
    "    return stats, trend, region_info, related_hashtags"
   ]
  },
  {
   "cell_type": "code",
   "execution_count": 89,
   "id": "secure-spider",
   "metadata": {},
   "outputs": [],
   "source": [
    "song = \"ZEHEF-7153220143206631425\"\n",
    "period = \"7\"\n",
    "country = \"FR\"\n",
    "\n",
    "def song_trend_info(song, country, period):\n",
    "\n",
    "    URL = f\"https://ads.tiktok.com/business/creativecenter/song/{song}/pc/en?countryCode={country}&period={period}\"\n",
    "    page = requests.get(URL)\n",
    "\n",
    "    soup = BeautifulSoup(page.text)\n",
    "\n",
    "    trend = soup.find('span', {'class': 'bannerDesc--yWTb+ bannerDesc--94fZk'}).text\n",
    "    region_info = []\n",
    "    region = soup.find_all('div', {'class': 'content-wrap-item--P88lK content-wrap-item--zMoGF'})\n",
    "    for r in region:\n",
    "        reg = {}\n",
    "        reg['country'] = r.find('span', {'class': 'content-wrap-item-label-wrap-label--33mdU content-wrap-item-label-wrap-label--uojf9'}).text\n",
    "        reg['count'] = r.find('span', {'class': 'content-wrap-item-value-wrap-value--wtBCS content-wrap-item-value-wrap-value--q-PNh'}).text\n",
    "        region_info.append(reg)\n",
    "    sounds = soup.find_all('div', {'class': 'soundItem--OBPhW soundItem--IE6BO'})\n",
    "    music_info = []\n",
    "    for s in sounds:\n",
    "        music = {}\n",
    "        music['name'] = s.find('span', {'class': 'soundItem-desc-title--Zu0RR soundItem-desc-title--skY+6'}).text\n",
    "        music['artist'] = s.find('span', {'class': 'soundItem-desc-author--QMtpm soundItem-desc-author--x-lDq'}).text\n",
    "        music_info.append(music)\n",
    "\n",
    "    region_info = pd.DataFrame(region_info)\n",
    "    music_info = pd.DataFrame(music_info)\n",
    "    \n",
    "    return trend, region_info, music_info"
   ]
  },
  {
   "cell_type": "code",
   "execution_count": 94,
   "id": "accurate-destination",
   "metadata": {},
   "outputs": [],
   "source": [
    "trend, region_info, music_info = song_trend_info(song, country, period)"
   ]
  },
  {
   "cell_type": "code",
   "execution_count": 92,
   "id": "matched-title",
   "metadata": {},
   "outputs": [
    {
     "data": {
      "text/html": [
       "<div>\n",
       "<style scoped>\n",
       "    .dataframe tbody tr th:only-of-type {\n",
       "        vertical-align: middle;\n",
       "    }\n",
       "\n",
       "    .dataframe tbody tr th {\n",
       "        vertical-align: top;\n",
       "    }\n",
       "\n",
       "    .dataframe thead th {\n",
       "        text-align: right;\n",
       "    }\n",
       "</style>\n",
       "<table border=\"1\" class=\"dataframe\">\n",
       "  <thead>\n",
       "    <tr style=\"text-align: right;\">\n",
       "      <th></th>\n",
       "      <th>name</th>\n",
       "      <th>artist</th>\n",
       "    </tr>\n",
       "  </thead>\n",
       "  <tbody>\n",
       "    <tr>\n",
       "      <th>0</th>\n",
       "      <td>HipHop Rap Battle Freestyle(216720)</td>\n",
       "      <td>UNchan</td>\n",
       "    </tr>\n",
       "    <tr>\n",
       "      <th>1</th>\n",
       "      <td>eSports Dark Electro(1075563)</td>\n",
       "      <td>Low</td>\n",
       "    </tr>\n",
       "    <tr>\n",
       "      <th>2</th>\n",
       "      <td>Drum and clapless version(959862)</td>\n",
       "      <td>Gloveity</td>\n",
       "    </tr>\n",
       "    <tr>\n",
       "      <th>3</th>\n",
       "      <td>Dark cinematic IDM</td>\n",
       "      <td>Masayan</td>\n",
       "    </tr>\n",
       "    <tr>\n",
       "      <th>4</th>\n",
       "      <td>\"HR / HM\" \"DARK system\" BGM19(795342)</td>\n",
       "      <td>Ume-chan</td>\n",
       "    </tr>\n",
       "    <tr>\n",
       "      <th>5</th>\n",
       "      <td>Mysterious BGM</td>\n",
       "      <td>KARACLOID</td>\n",
       "    </tr>\n",
       "  </tbody>\n",
       "</table>\n",
       "</div>"
      ],
      "text/plain": [
       "                                    name     artist\n",
       "0    HipHop Rap Battle Freestyle(216720)     UNchan\n",
       "1          eSports Dark Electro(1075563)        Low\n",
       "2      Drum and clapless version(959862)   Gloveity\n",
       "3                     Dark cinematic IDM    Masayan\n",
       "4  \"HR / HM\" \"DARK system\" BGM19(795342)   Ume-chan\n",
       "5                         Mysterious BGM  KARACLOID"
      ]
     },
     "execution_count": 92,
     "metadata": {},
     "output_type": "execute_result"
    }
   ],
   "source": [
    "music_info"
   ]
  },
  {
   "cell_type": "code",
   "execution_count": null,
   "id": "becoming-behavior",
   "metadata": {},
   "outputs": [],
   "source": []
  }
 ],
 "metadata": {
  "kernelspec": {
   "display_name": "Python 3",
   "language": "python",
   "name": "python3"
  },
  "language_info": {
   "codemirror_mode": {
    "name": "ipython",
    "version": 3
   },
   "file_extension": ".py",
   "mimetype": "text/x-python",
   "name": "python",
   "nbconvert_exporter": "python",
   "pygments_lexer": "ipython3",
   "version": "3.7.3"
  }
 },
 "nbformat": 4,
 "nbformat_minor": 5
}
