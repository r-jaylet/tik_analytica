{
 "cells": [
  {
   "cell_type": "code",
   "execution_count": 8,
   "id": "ranking-south",
   "metadata": {},
   "outputs": [],
   "source": [
    "import pandas as pd\n",
    "from datetime import datetime, timedelta\n",
    "import numpy as np\n",
    "import json\n",
    "import pandas as pd\n",
    "import requests\n",
    "import ast\n",
    "import re\n",
    "from bs4 import BeautifulSoup\n",
    "import matplotlib.pyplot as plt\n",
    "from selenium import webdriver\n",
    "from webdriver_manager.chrome import ChromeDriverManager\n",
    "from PIL import Image"
   ]
  },
  {
   "cell_type": "code",
   "execution_count": 16,
   "id": "recent-handling",
   "metadata": {},
   "outputs": [
    {
     "name": "stderr",
     "output_type": "stream",
     "text": [
      "\n",
      "\n",
      "====== WebDriver manager ======\n",
      "Current google-chrome version is 110.0.5481\n",
      "Get LATEST chromedriver version for 110.0.5481 google-chrome\n",
      "Driver [C:\\Users\\remij\\.wdm\\drivers\\chromedriver\\win32\\110.0.5481.77\\chromedriver.exe] found in cache\n"
     ]
    }
   ],
   "source": [
    "driver = webdriver.Chrome(ChromeDriverManager().install())"
   ]
  },
  {
   "cell_type": "code",
   "execution_count": 17,
   "id": "final-eleven",
   "metadata": {},
   "outputs": [],
   "source": [
    "# URL of website\n",
    "url = \"https://ads.tiktok.com/business/creativecenter/hashtag/jhope/pc/en?countryCode=FR&period=120\"\n",
    "\n",
    "# Opening the website\n",
    "driver.get(url)\n",
    "\n",
    "driver.save_screenshot(\"image.png\")\n",
    "\n",
    "# Loading the image\n",
    "image = Image.open(\"image.png\")\n",
    "\n",
    "# Showing the image\n",
    "image.show()\n"
   ]
  },
  {
   "cell_type": "code",
   "execution_count": null,
   "id": "about-genealogy",
   "metadata": {},
   "outputs": [],
   "source": []
  }
 ],
 "metadata": {
  "kernelspec": {
   "display_name": "Python 3",
   "language": "python",
   "name": "python3"
  },
  "language_info": {
   "codemirror_mode": {
    "name": "ipython",
    "version": 3
   },
   "file_extension": ".py",
   "mimetype": "text/x-python",
   "name": "python",
   "nbconvert_exporter": "python",
   "pygments_lexer": "ipython3",
   "version": "3.7.3"
  }
 },
 "nbformat": 4,
 "nbformat_minor": 5
}
